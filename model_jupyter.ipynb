{
 "cells": [
  {
   "cell_type": "code",
   "execution_count": 162,
   "metadata": {},
   "outputs": [],
   "source": [
    "import pandas as pd\n",
    "import numpy as np\n",
    "import random as rnd\n",
    "\n",
    "import seaborn as sns\n",
    "import matplotlib.pyplot as plt\n",
    "\n",
    "from sklearn.linear_model import LogisticRegression\n",
    "from sklearn.svm import SVC, LinearSVC\n",
    "from sklearn.ensemble import RandomForestClassifier\n",
    "from sklearn.neighbors import KNeighborsClassifier\n",
    "from sklearn.naive_bayes import GaussianNB\n",
    "from sklearn.linear_model import Perceptron\n",
    "from sklearn.linear_model import SGDClassifier\n",
    "from sklearn.tree import DecisionTreeClassifier\n",
    "from xgboost import XGBClassifier\n",
    "from sklearn.model_selection import train_test_split\n",
    "from sklearn.model_selection import RandomizedSearchCV, GridSearchCV\n",
    "import sklearn.metrics"
   ]
  },
  {
   "cell_type": "code",
   "execution_count": 201,
   "metadata": {},
   "outputs": [],
   "source": [
    "train_df = pd.read_csv('train_clean.csv')\n",
    "test_df = pd.read_csv('test_clean.csv')\n",
    "combine = [train_df, test_df]\n",
    "\n",
    "XX = train_df.drop('Survived', axis=1)\n",
    "yy = train_df['Survived']\n",
    "\n",
    "X_train, X_test, y_train, y_test = train_test_split(XX, yy, test_size=0.4)\n",
    "\n",
    "\n",
    "X_to_sub = test_df.drop('PassengerId', axis=1).copy()\n"
   ]
  },
  {
   "cell_type": "code",
   "execution_count": 93,
   "metadata": {},
   "outputs": [],
   "source": [
    "# Logistic Regression\n",
    "logreg = LogisticRegression(max_iter=1000)\n",
    "logreg.fit(X_train, y_train)\n",
    "Y_pred = logreg.predict(X_to_sub)\n",
    "acc_log = logreg.score(X_test, y_test)"
   ]
  },
  {
   "cell_type": "code",
   "execution_count": 94,
   "metadata": {},
   "outputs": [],
   "source": [
    "# Support Vector Machines\n",
    "svc = SVC()\n",
    "svc.fit(X_train, y_train)\n",
    "Y_pred = svc.predict(X_to_sub)\n",
    "acc_svc = svc.score(X_test, y_test)"
   ]
  },
  {
   "cell_type": "code",
   "execution_count": 95,
   "metadata": {},
   "outputs": [],
   "source": [
    "# KNN\n",
    "knn = KNeighborsClassifier(n_neighbors=3)\n",
    "knn.fit(X_train, y_train)\n",
    "Y_pred = knn.predict(X_to_sub)\n",
    "acc_knn = knn.score(X_test, y_test)"
   ]
  },
  {
   "cell_type": "code",
   "execution_count": 224,
   "metadata": {},
   "outputs": [],
   "source": [
    "rf = RandomForestClassifier()\n",
    "distrib = {'n_estimators': [int(x) for x in np.linspace(start = 200, stop = 2000, num = 10)],\n",
    "          'max_features': ['auto', 'sqrt'],\n",
    "          'max_depth': [int(x) for x in np.linspace(10, 110, num = 11)],\n",
    "          'min_samples_split': [2, 5, 10],\n",
    "          'min_samples_leaf': [1, 2, 4],\n",
    "          'bootstrap': [True, False]}\n",
    "\n",
    "model = RandomizedSearchCV(rf, distrib)\n",
    "search = model.fit(XX, yy)"
   ]
  },
  {
   "cell_type": "code",
   "execution_count": 225,
   "metadata": {},
   "outputs": [
    {
     "name": "stdout",
     "output_type": "stream",
     "text": [
      "{'n_estimators': 1800, 'min_samples_split': 5, 'min_samples_leaf': 1, 'max_features': 'auto', 'max_depth': 60, 'bootstrap': True}\n",
      "\n",
      "\n",
      "0.823821480133074\n"
     ]
    }
   ],
   "source": [
    "print(search.best_params_)\n",
    "print('\\n')\n",
    "print(search.best_score_)"
   ]
  },
  {
   "cell_type": "code",
   "execution_count": 217,
   "metadata": {},
   "outputs": [],
   "source": [
    "# best: 0.8547486033519553\n",
    "scores_rf = []\n",
    "scores_mean = []"
   ]
  },
  {
   "cell_type": "code",
   "execution_count": 226,
   "metadata": {},
   "outputs": [],
   "source": [
    "# Random Forest\n",
    "for i in range(10):\n",
    "    random_forest = RandomForestClassifier(**search.best_params_)\n",
    "    random_forest.fit(X_train, y_train)\n",
    "    Y_pred = random_forest.predict(X_to_sub)\n",
    "    acc_rf = random_forest.score(X_test, y_test)\n",
    "\n",
    "    scores_rf.append(acc_rf)"
   ]
  },
  {
   "cell_type": "code",
   "execution_count": 231,
   "metadata": {},
   "outputs": [],
   "source": [
    "random_forest = RandomForestClassifier(**search.best_params_)\n",
    "random_forest.fit(X_train, y_train)\n",
    "Y_pred_rf = random_forest.predict(X_to_sub)\n",
    "acc_rf = random_forest.score(X_test, y_test)"
   ]
  },
  {
   "cell_type": "code",
   "execution_count": 227,
   "metadata": {},
   "outputs": [
    {
     "data": {
      "image/png": "[encoded data removed]",
      "text/plain": [
       "<Figure size 432x288 with 1 Axes>"
      ]
     },
     "metadata": {
      "needs_background": "light"
     },
     "output_type": "display_data"
    },
    {
     "name": "stdout",
     "output_type": "stream",
     "text": [
      "0.8187274909963987\n"
     ]
    }
   ],
   "source": [
    "plt.plot(scores_rf)\n",
    "plt.show()\n",
    "print(np.mean(scores_rf))\n",
    "scores_mean.append(np.mean(scores_rf))"
   ]
  },
  {
   "cell_type": "code",
   "execution_count": 228,
   "metadata": {},
   "outputs": [
    {
     "name": "stdout",
     "output_type": "stream",
     "text": [
      "[0.8151260504201681, 0.8151260504201681, 0.8187274909963987]\n"
     ]
    }
   ],
   "source": [
    "print(scores_mean)"
   ]
  },
  {
   "cell_type": "code",
   "execution_count": 125,
   "metadata": {},
   "outputs": [],
   "source": [
    "xgb = XGBClassifier()\n",
    "distrib = {'max_depth': [3, 4, 5, 6, 7, 8, 9, 10, 11, 12],\n",
    "          'learning_rate': [0.01, 0.02, 0.05, 0.1, 0.2, 0.3],\n",
    "          'n_estimators': [10, 50, 100, 150, 200, 300, 500, 1000],\n",
    "          'min_child_weight': [0.1, 0.5, 1, 2],\n",
    "          'gamma': [0, 0.01, 0.02, 0.03]}\n",
    "\n",
    "model = RandomizedSearchCV(xgb, distrib)\n",
    "search = model.fit(XX, yy)"
   ]
  },
  {
   "cell_type": "code",
   "execution_count": 126,
   "metadata": {},
   "outputs": [
    {
     "name": "stdout",
     "output_type": "stream",
     "text": [
      "{'n_estimators': 100, 'min_child_weight': 1, 'max_depth': 5, 'learning_rate': 0.1, 'gamma': 0}\n",
      "\n",
      "\n",
      "0.8226916075575922\n"
     ]
    }
   ],
   "source": [
    "print(search.best_params_)\n",
    "print('\\n')\n",
    "print(search.best_score_)"
   ]
  },
  {
   "cell_type": "code",
   "execution_count": 129,
   "metadata": {},
   "outputs": [
    {
     "name": "stdout",
     "output_type": "stream",
     "text": [
      "0.8491620111731844\n"
     ]
    }
   ],
   "source": [
    "xgb = XGBClassifier(n_estimators=1000, max_depth=5,\n",
    "                    learning_rate=0.1, min_child_weight=0.1,\n",
    "                   gamma=0.03)\n",
    "xgb.fit(X_train, y_train)\n",
    "y_pred_xgb = xgb.predict(X_to_sub)\n",
    "acc_xgb = xgb.score(X_test, y_test)\n",
    "acc_t_xgb = xgb.score(X_train, y_train)\n",
    "print(acc_xgb)\n"
   ]
  },
  {
   "cell_type": "code",
   "execution_count": null,
   "metadata": {},
   "outputs": [],
   "source": [
    "# best 0.8491620111731844"
   ]
  },
  {
   "cell_type": "code",
   "execution_count": 229,
   "metadata": {},
   "outputs": [
    {
     "name": "stdout",
     "output_type": "stream",
     "text": [
      "           Model     Score\n",
      "2            XGB  0.849162\n",
      "0  Random Forest  0.820728\n",
      "1            KNN  0.804469\n",
      "4         LogReg  0.804469\n",
      "3            SVC  0.793296\n"
     ]
    }
   ],
   "source": [
    "models = pd.DataFrame({\n",
    "    'Model': ['Random Forest', 'KNN', 'XGB', 'SVC', 'LogReg'],\n",
    "    'Score': [acc_rf, acc_knn, acc_xgb, acc_svc, acc_log]\n",
    "})\n",
    "\n",
    "models.sort_values(by='Score', ascending=False, inplace=True)\n",
    "print(models)"
   ]
  },
  {
   "cell_type": "code",
   "execution_count": 233,
   "metadata": {},
   "outputs": [],
   "source": [
    "'''\n",
    "submission = pd.DataFrame({\n",
    "        \"PassengerId\": test_df[\"PassengerId\"],\n",
    "        \"Survived\": Y_pred_rf\n",
    "    })\n",
    "submission.to_csv('submission_rf1.csv', index=False)\n",
    "'''"
   ]
  },
  {
   "cell_type": "code",
   "execution_count": null,
   "metadata": {},
   "outputs": [],
   "source": []
  }
 ],
 "metadata": {
  "kernelspec": {
   "display_name": "Python 3.6.8 64-bit",
   "language": "python",
   "name": "python36864bit6e91e9c0a154458c911f70e82a4b6152"
  },
  "language_info": {
   "codemirror_mode": {
    "name": "ipython",
    "version": 3
   },
   "file_extension": ".py",
   "mimetype": "text/x-python",
   "name": "python",
   "nbconvert_exporter": "python",
   "pygments_lexer": "ipython3",
   "version": "3.6.8"
  }
 },
 "nbformat": 4,
 "nbformat_minor": 4
}
